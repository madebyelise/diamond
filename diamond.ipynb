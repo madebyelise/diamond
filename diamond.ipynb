{
 "cells": [
  {
   "cell_type": "code",
   "execution_count": 1,
   "metadata": {},
   "outputs": [],
   "source": [
    "import requests\n",
    "from bs4 import BeautifulSoup\n",
    "import pandas as pd\n",
    "import time\n",
    "from tqdm import tqdm"
   ]
  },
  {
   "cell_type": "markdown",
   "metadata": {},
   "source": [
    "# Scrape data from Brilliant Earth"
   ]
  },
  {
   "cell_type": "code",
   "execution_count": 2,
   "metadata": {},
   "outputs": [],
   "source": [
    "colNames = ['Stock Number','Gemstone','Origin','Price','Carat Weight','Shape','Cut','Color',\n",
    "                               'Clarity','Measurements','Table','Depth','Symmetry','Polish', 'Girdle',\n",
    "                              'Culet','Fluorescence']\n",
    "data = []\n",
    "nCols = len(colNames)"
   ]
  },
  {
   "cell_type": "code",
   "execution_count": 3,
   "metadata": {},
   "outputs": [],
   "source": [
    "url = 'https://www.brilliantearth.com/loose-diamonds/view_detail/'"
   ]
  },
  {
   "cell_type": "code",
   "execution_count": 4,
   "metadata": {},
   "outputs": [],
   "source": [
    "def processDiamond(soup):\n",
    "    soupDL = soup.findAll('dl')\n",
    "    #find where the data table starts in the soupDL list\n",
    "    starting = [i for i in range(len(soupDL)) if \"Stock Number\" in str(soupDL[i])][0]\n",
    "    #iterate through every position from starting position through end of soupDL list\n",
    "    #check whether the field matches name of column in our data table\n",
    "    diamondDict = {}\n",
    "    for pos in range(starting, len(soupDL)):\n",
    "        s = str(soupDL[pos])\n",
    "        if ('Stock Number' in s) or ('Gemstone' in s):\n",
    "            fieldName = s[s.find('<dt>')+4:s.find('</dt>')-1]\n",
    "            val = s[s.find('<dd>')+4:s.find('</dd>')]\n",
    "            diamondDict[fieldName] = val\n",
    "        elif 'Origin' in s:\n",
    "            fieldName = 'Origin'\n",
    "            val = s[s.find('<dd>')+4:s.find('</dd>')]\n",
    "            diamondDict[fieldName] = val\n",
    "        elif ('Girdle' in s) or ('Polish' in s):\n",
    "            fieldName = s[s.find('</a>')+4:s.find('</dt>')-10]\n",
    "            val = s[s.find('<dd>')+4:s.find('</dd>')]\n",
    "            diamondDict[fieldName] = val\n",
    "        else:\n",
    "            fieldName = s[s.find('</a>')+4:s.find('</dt>')-1]\n",
    "            if fieldName in colNames:\n",
    "                val = s[s.find('<dd>')+4:s.find('</dd>')]\n",
    "                diamondDict[fieldName] = val\n",
    "    return diamondDict"
   ]
  },
  {
   "cell_type": "code",
   "execution_count": 5,
   "metadata": {},
   "outputs": [],
   "source": [
    "def addDiamond(diamondId):\n",
    "    num_retries = 0\n",
    "    got_response = False\n",
    "    while True:\n",
    "        try:\n",
    "            link = requests.get(f\"{url}{diamondId}/\", timeout=5)\n",
    "            got_response = True\n",
    "        except Exception as exception:\n",
    "            if num_retries < 5:\n",
    "                num_retries += 1\n",
    "            time.sleep(4**num_retries)\n",
    "        if got_response:\n",
    "            break\n",
    "    soup = BeautifulSoup(link.content,'html.parser')\n",
    "    if 'error404' not in str(soup):        \n",
    "        diamondDict = processDiamond(soup)\n",
    "        data.append(diamondDict)\n",
    "    time.sleep(0.3)"
   ]
  },
  {
   "cell_type": "code",
   "execution_count": 6,
   "metadata": {},
   "outputs": [
    {
     "name": "stderr",
     "output_type": "stream",
     "text": [
      "100%|██████████| 28790/28790 [16:24:57<00:00,  1.09s/it]\n"
     ]
    }
   ],
   "source": [
    "diamondList = range(6621210,6650000)\n",
    "for i in tqdm(diamondList):\n",
    "    addDiamond(i)"
   ]
  },
  {
   "cell_type": "code",
   "execution_count": 8,
   "metadata": {},
   "outputs": [],
   "source": [
    "df = pd.DataFrame(data)"
   ]
  },
  {
   "cell_type": "code",
   "execution_count": 9,
   "metadata": {},
   "outputs": [
    {
     "data": {
      "text/html": [
       "<div>\n",
       "<style scoped>\n",
       "    .dataframe tbody tr th:only-of-type {\n",
       "        vertical-align: middle;\n",
       "    }\n",
       "\n",
       "    .dataframe tbody tr th {\n",
       "        vertical-align: top;\n",
       "    }\n",
       "\n",
       "    .dataframe thead th {\n",
       "        text-align: right;\n",
       "    }\n",
       "</style>\n",
       "<table border=\"1\" class=\"dataframe\">\n",
       "  <thead>\n",
       "    <tr style=\"text-align: right;\">\n",
       "      <th></th>\n",
       "      <th>Carat Weight</th>\n",
       "      <th>Clarity</th>\n",
       "      <th>Color</th>\n",
       "      <th>Cut</th>\n",
       "      <th>Depth</th>\n",
       "      <th>Fluorescence</th>\n",
       "      <th>Gemstone</th>\n",
       "      <th>Girdle</th>\n",
       "      <th>Measurements</th>\n",
       "      <th>Origin</th>\n",
       "      <th>Polish</th>\n",
       "      <th>Price</th>\n",
       "      <th>Shape</th>\n",
       "      <th>Stock Number</th>\n",
       "      <th>Symmetry</th>\n",
       "      <th>Table</th>\n",
       "    </tr>\n",
       "  </thead>\n",
       "  <tbody>\n",
       "    <tr>\n",
       "      <th>16217</th>\n",
       "      <td>0.32</td>\n",
       "      <td>VVS2</td>\n",
       "      <td>E</td>\n",
       "      <td>Super Ideal</td>\n",
       "      <td>61.6%</td>\n",
       "      <td>None</td>\n",
       "      <td>Natural, untreated diamond</td>\n",
       "      <td>Medium - Slightly Thick, Faceted</td>\n",
       "      <td>4.38mm x 4.36mm x 2.69mm</td>\n",
       "      <td>Botswana Sort</td>\n",
       "      <td>Excellent</td>\n",
       "      <td>$1,030</td>\n",
       "      <td>Round</td>\n",
       "      <td>2720882A</td>\n",
       "      <td>Excellent</td>\n",
       "      <td>59.0%</td>\n",
       "    </tr>\n",
       "    <tr>\n",
       "      <th>16218</th>\n",
       "      <td>0.34</td>\n",
       "      <td>SI1</td>\n",
       "      <td>D</td>\n",
       "      <td>Ideal</td>\n",
       "      <td>62.4%</td>\n",
       "      <td>Faint</td>\n",
       "      <td>Natural, untreated diamond</td>\n",
       "      <td>Medium - Slightly Thick, Faceted</td>\n",
       "      <td>4.47mm x 4.45mm x 2.79mm</td>\n",
       "      <td>Canada</td>\n",
       "      <td>Excellent</td>\n",
       "      <td>$950</td>\n",
       "      <td>Round</td>\n",
       "      <td>2720880A</td>\n",
       "      <td>Very Good</td>\n",
       "      <td>57.0%</td>\n",
       "    </tr>\n",
       "    <tr>\n",
       "      <th>16219</th>\n",
       "      <td>0.80</td>\n",
       "      <td>VVS1</td>\n",
       "      <td>H</td>\n",
       "      <td>Super Ideal</td>\n",
       "      <td>62.2%</td>\n",
       "      <td>None</td>\n",
       "      <td>Natural, untreated diamond</td>\n",
       "      <td>Thin - Slightly Thick, Faceted</td>\n",
       "      <td>5.96mm x 5.91mm x 3.69mm</td>\n",
       "      <td>Botswana Sort</td>\n",
       "      <td>Excellent</td>\n",
       "      <td>$4,170</td>\n",
       "      <td>Round</td>\n",
       "      <td>2976751A</td>\n",
       "      <td>Excellent</td>\n",
       "      <td>58.0%</td>\n",
       "    </tr>\n",
       "    <tr>\n",
       "      <th>16220</th>\n",
       "      <td>0.30</td>\n",
       "      <td>SI1</td>\n",
       "      <td>E</td>\n",
       "      <td>Very Good</td>\n",
       "      <td>61.8%</td>\n",
       "      <td>None</td>\n",
       "      <td>Natural, untreated diamond</td>\n",
       "      <td>Medium - Thick, Faceted</td>\n",
       "      <td>4.32mm x 4.29mm x 2.66mm</td>\n",
       "      <td>Botswana Sort</td>\n",
       "      <td>Excellent</td>\n",
       "      <td>$840</td>\n",
       "      <td>Round</td>\n",
       "      <td>2721027A</td>\n",
       "      <td>Excellent</td>\n",
       "      <td>60.0%</td>\n",
       "    </tr>\n",
       "    <tr>\n",
       "      <th>16221</th>\n",
       "      <td>0.90</td>\n",
       "      <td>VS1</td>\n",
       "      <td>G</td>\n",
       "      <td>Very Good</td>\n",
       "      <td>64.6%</td>\n",
       "      <td>None</td>\n",
       "      <td>Natural, untreated diamond</td>\n",
       "      <td>Thin - Thick, Faceted</td>\n",
       "      <td>6.06mm x 6.02mm x 3.91mm</td>\n",
       "      <td>Botswana Sort</td>\n",
       "      <td>Excellent</td>\n",
       "      <td>$4,680</td>\n",
       "      <td>Round</td>\n",
       "      <td>2963872A</td>\n",
       "      <td>Very Good</td>\n",
       "      <td>55.0%</td>\n",
       "    </tr>\n",
       "  </tbody>\n",
       "</table>\n",
       "</div>"
      ],
      "text/plain": [
       "      Carat Weight Clarity Color          Cut  Depth Fluorescence  \\\n",
       "16217         0.32    VVS2     E  Super Ideal  61.6%         None   \n",
       "16218         0.34     SI1     D        Ideal  62.4%        Faint   \n",
       "16219         0.80    VVS1     H  Super Ideal  62.2%         None   \n",
       "16220         0.30     SI1     E    Very Good  61.8%         None   \n",
       "16221         0.90     VS1     G    Very Good  64.6%         None   \n",
       "\n",
       "                         Gemstone                            Girdle  \\\n",
       "16217  Natural, untreated diamond  Medium - Slightly Thick, Faceted   \n",
       "16218  Natural, untreated diamond  Medium - Slightly Thick, Faceted   \n",
       "16219  Natural, untreated diamond    Thin - Slightly Thick, Faceted   \n",
       "16220  Natural, untreated diamond           Medium - Thick, Faceted   \n",
       "16221  Natural, untreated diamond             Thin - Thick, Faceted   \n",
       "\n",
       "                   Measurements         Origin     Polish   Price  Shape  \\\n",
       "16217  4.38mm x 4.36mm x 2.69mm  Botswana Sort  Excellent  $1,030  Round   \n",
       "16218  4.47mm x 4.45mm x 2.79mm         Canada  Excellent    $950  Round   \n",
       "16219  5.96mm x 5.91mm x 3.69mm  Botswana Sort  Excellent  $4,170  Round   \n",
       "16220  4.32mm x 4.29mm x 2.66mm  Botswana Sort  Excellent    $840  Round   \n",
       "16221  6.06mm x 6.02mm x 3.91mm  Botswana Sort  Excellent  $4,680  Round   \n",
       "\n",
       "      Stock Number   Symmetry  Table  \n",
       "16217     2720882A  Excellent  59.0%  \n",
       "16218     2720880A  Very Good  57.0%  \n",
       "16219     2976751A  Excellent  58.0%  \n",
       "16220     2721027A  Excellent  60.0%  \n",
       "16221     2963872A  Very Good  55.0%  "
      ]
     },
     "execution_count": 9,
     "metadata": {},
     "output_type": "execute_result"
    }
   ],
   "source": [
    "df.tail()"
   ]
  },
  {
   "cell_type": "code",
   "execution_count": 10,
   "metadata": {},
   "outputs": [],
   "source": [
    "df.to_csv('/mnt/c/Users/tmngu/Documents/diamond/data6650000.csv')"
   ]
  },
  {
   "cell_type": "code",
   "execution_count": 11,
   "metadata": {},
   "outputs": [],
   "source": [
    "df.to_csv('data6650000.csv')"
   ]
  }
 ],
 "metadata": {
  "kernelspec": {
   "display_name": "Python 3",
   "language": "python",
   "name": "python3"
  },
  "language_info": {
   "codemirror_mode": {
    "name": "ipython",
    "version": 3
   },
   "file_extension": ".py",
   "mimetype": "text/x-python",
   "name": "python",
   "nbconvert_exporter": "python",
   "pygments_lexer": "ipython3",
   "version": "3.6.5"
  }
 },
 "nbformat": 4,
 "nbformat_minor": 2
}
