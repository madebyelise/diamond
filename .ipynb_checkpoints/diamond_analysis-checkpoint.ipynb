{
 "cells": [
  {
   "cell_type": "code",
   "execution_count": 407,
   "metadata": {},
   "outputs": [],
   "source": [
    "import pandas as pd\n",
    "import numpy as np\n",
    "import math\n",
    "from re import sub\n",
    "from decimal import Decimal\n",
    "import matplotlib.pyplot as plt\n",
    "import seaborn as sns\n",
    "from sklearn import preprocessing\n",
    "pd.options.display.float_format = '{:,.2f}'.format"
   ]
  },
  {
   "cell_type": "code",
   "execution_count": 408,
   "metadata": {},
   "outputs": [
    {
     "data": {
      "text/html": [
       "<div>\n",
       "<style scoped>\n",
       "    .dataframe tbody tr th:only-of-type {\n",
       "        vertical-align: middle;\n",
       "    }\n",
       "\n",
       "    .dataframe tbody tr th {\n",
       "        vertical-align: top;\n",
       "    }\n",
       "\n",
       "    .dataframe thead th {\n",
       "        text-align: right;\n",
       "    }\n",
       "</style>\n",
       "<table border=\"1\" class=\"dataframe\">\n",
       "  <thead>\n",
       "    <tr style=\"text-align: right;\">\n",
       "      <th></th>\n",
       "      <th>Carat Weight</th>\n",
       "      <th>Clarity</th>\n",
       "      <th>Color</th>\n",
       "      <th>Cut</th>\n",
       "      <th>Depth</th>\n",
       "      <th>Fluorescence</th>\n",
       "      <th>Gemstone</th>\n",
       "      <th>Girdle</th>\n",
       "      <th>Measurements</th>\n",
       "      <th>Origin</th>\n",
       "      <th>Polish</th>\n",
       "      <th>Price</th>\n",
       "      <th>Shape</th>\n",
       "      <th>Stock Number</th>\n",
       "      <th>Symmetry</th>\n",
       "      <th>Table</th>\n",
       "    </tr>\n",
       "  </thead>\n",
       "  <tbody>\n",
       "    <tr>\n",
       "      <th>0</th>\n",
       "      <td>0.90</td>\n",
       "      <td>VVS1</td>\n",
       "      <td>E</td>\n",
       "      <td>Very Good</td>\n",
       "      <td>NaN</td>\n",
       "      <td>NaN</td>\n",
       "      <td>NaN</td>\n",
       "      <td>NaN</td>\n",
       "      <td>NaN</td>\n",
       "      <td>NaN</td>\n",
       "      <td>NaN</td>\n",
       "      <td>NaN</td>\n",
       "      <td>Cushion</td>\n",
       "      <td>2905514A</td>\n",
       "      <td>NaN</td>\n",
       "      <td>NaN</td>\n",
       "    </tr>\n",
       "    <tr>\n",
       "      <th>1</th>\n",
       "      <td>1.07</td>\n",
       "      <td>VS1</td>\n",
       "      <td>I</td>\n",
       "      <td>Very Good</td>\n",
       "      <td>68.3%</td>\n",
       "      <td>None</td>\n",
       "      <td>Natural, untreated diamond</td>\n",
       "      <td>Medium - Extremely Thick</td>\n",
       "      <td>6.22mm x 5.58mm x 3.81mm</td>\n",
       "      <td>Russia</td>\n",
       "      <td>Excellent</td>\n",
       "      <td>$3,400</td>\n",
       "      <td>Cushion</td>\n",
       "      <td>2523116AB</td>\n",
       "      <td>Very Good</td>\n",
       "      <td>62.0%</td>\n",
       "    </tr>\n",
       "    <tr>\n",
       "      <th>2</th>\n",
       "      <td>1.71</td>\n",
       "      <td>VVS2</td>\n",
       "      <td>D</td>\n",
       "      <td>Very Good</td>\n",
       "      <td>71.4%</td>\n",
       "      <td>Medium</td>\n",
       "      <td>Natural, untreated diamond</td>\n",
       "      <td>Medium - Extremely Thick</td>\n",
       "      <td>7.23mm x 6.26mm x 4.47mm</td>\n",
       "      <td>Botswana Sort</td>\n",
       "      <td>Excellent</td>\n",
       "      <td>$15,290</td>\n",
       "      <td>Cushion</td>\n",
       "      <td>2905892AY</td>\n",
       "      <td>Very Good</td>\n",
       "      <td>64.0%</td>\n",
       "    </tr>\n",
       "    <tr>\n",
       "      <th>3</th>\n",
       "      <td>1.02</td>\n",
       "      <td>VS2</td>\n",
       "      <td>E</td>\n",
       "      <td>Very Good</td>\n",
       "      <td>73.2%</td>\n",
       "      <td>Medium</td>\n",
       "      <td>Natural, untreated diamond</td>\n",
       "      <td>Thick - Extremely Thick</td>\n",
       "      <td>5.60mm x 5.44mm x 3.98mm</td>\n",
       "      <td>Botswana Sort</td>\n",
       "      <td>Very Good</td>\n",
       "      <td>$4,820</td>\n",
       "      <td>Cushion</td>\n",
       "      <td>2988421AY</td>\n",
       "      <td>Good</td>\n",
       "      <td>62.0%</td>\n",
       "    </tr>\n",
       "    <tr>\n",
       "      <th>4</th>\n",
       "      <td>0.91</td>\n",
       "      <td>SI1</td>\n",
       "      <td>F</td>\n",
       "      <td>Very Good</td>\n",
       "      <td>NaN</td>\n",
       "      <td>NaN</td>\n",
       "      <td>NaN</td>\n",
       "      <td>NaN</td>\n",
       "      <td>NaN</td>\n",
       "      <td>NaN</td>\n",
       "      <td>NaN</td>\n",
       "      <td>NaN</td>\n",
       "      <td>Cushion</td>\n",
       "      <td>2905877AY</td>\n",
       "      <td>NaN</td>\n",
       "      <td>NaN</td>\n",
       "    </tr>\n",
       "  </tbody>\n",
       "</table>\n",
       "</div>"
      ],
      "text/plain": [
       "   Carat Weight Clarity Color        Cut  Depth Fluorescence  \\\n",
       "0          0.90    VVS1     E  Very Good    NaN          NaN   \n",
       "1          1.07     VS1     I  Very Good  68.3%         None   \n",
       "2          1.71    VVS2     D  Very Good  71.4%       Medium   \n",
       "3          1.02     VS2     E  Very Good  73.2%       Medium   \n",
       "4          0.91     SI1     F  Very Good    NaN          NaN   \n",
       "\n",
       "                     Gemstone                    Girdle  \\\n",
       "0                         NaN                       NaN   \n",
       "1  Natural, untreated diamond  Medium - Extremely Thick   \n",
       "2  Natural, untreated diamond  Medium - Extremely Thick   \n",
       "3  Natural, untreated diamond   Thick - Extremely Thick   \n",
       "4                         NaN                       NaN   \n",
       "\n",
       "               Measurements         Origin     Polish    Price    Shape  \\\n",
       "0                       NaN            NaN        NaN      NaN  Cushion   \n",
       "1  6.22mm x 5.58mm x 3.81mm         Russia  Excellent   $3,400  Cushion   \n",
       "2  7.23mm x 6.26mm x 4.47mm  Botswana Sort  Excellent  $15,290  Cushion   \n",
       "3  5.60mm x 5.44mm x 3.98mm  Botswana Sort  Very Good   $4,820  Cushion   \n",
       "4                       NaN            NaN        NaN      NaN  Cushion   \n",
       "\n",
       "  Stock Number   Symmetry  Table  \n",
       "0     2905514A        NaN    NaN  \n",
       "1    2523116AB  Very Good  62.0%  \n",
       "2    2905892AY  Very Good  64.0%  \n",
       "3    2988421AY       Good  62.0%  \n",
       "4    2905877AY        NaN    NaN  "
      ]
     },
     "execution_count": 408,
     "metadata": {},
     "output_type": "execute_result"
    }
   ],
   "source": [
    "df = pd.read_csv('diamond_data.csv')\n",
    "del df['Unnamed: 0']\n",
    "df.head()"
   ]
  },
  {
   "cell_type": "code",
   "execution_count": 409,
   "metadata": {},
   "outputs": [
    {
     "data": {
      "text/plain": [
       "29176"
      ]
     },
     "execution_count": 409,
     "metadata": {},
     "output_type": "execute_result"
    }
   ],
   "source": [
    "len(df)"
   ]
  },
  {
   "cell_type": "markdown",
   "metadata": {},
   "source": [
    "Format Depth and Table"
   ]
  },
  {
   "cell_type": "code",
   "execution_count": 410,
   "metadata": {},
   "outputs": [],
   "source": [
    "def pctToFloat(x):\n",
    "    try: \n",
    "        math.isnan(x) == True\n",
    "        pass\n",
    "    except Exception as exception:\n",
    "        return float(x.strip('%'))/100\n",
    "\n",
    "df['Depth'] = df['Depth'].apply(lambda x: pctToFloat(x))\n",
    "df['Table'] = df['Table'].apply(lambda x: pctToFloat(x))"
   ]
  },
  {
   "cell_type": "markdown",
   "metadata": {},
   "source": [
    "Format Price"
   ]
  },
  {
   "cell_type": "code",
   "execution_count": 411,
   "metadata": {},
   "outputs": [],
   "source": [
    "def strToMoney(x):\n",
    "    try: \n",
    "        math.isnan(x) == True\n",
    "        pass\n",
    "    except Exception as exception:\n",
    "        return float(Decimal(sub(r'[^\\d.]', '', x)))\n",
    "\n",
    "df['Price'] = df['Price'].apply(lambda x: strToMoney(x))"
   ]
  },
  {
   "cell_type": "code",
   "execution_count": 412,
   "metadata": {},
   "outputs": [
    {
     "data": {
      "text/html": [
       "<div>\n",
       "<style scoped>\n",
       "    .dataframe tbody tr th:only-of-type {\n",
       "        vertical-align: middle;\n",
       "    }\n",
       "\n",
       "    .dataframe tbody tr th {\n",
       "        vertical-align: top;\n",
       "    }\n",
       "\n",
       "    .dataframe thead th {\n",
       "        text-align: right;\n",
       "    }\n",
       "</style>\n",
       "<table border=\"1\" class=\"dataframe\">\n",
       "  <thead>\n",
       "    <tr style=\"text-align: right;\">\n",
       "      <th></th>\n",
       "      <th>Carat Weight</th>\n",
       "      <th>Clarity</th>\n",
       "      <th>Color</th>\n",
       "      <th>Cut</th>\n",
       "      <th>Depth</th>\n",
       "      <th>Fluorescence</th>\n",
       "      <th>Gemstone</th>\n",
       "      <th>Girdle</th>\n",
       "      <th>Measurements</th>\n",
       "      <th>Origin</th>\n",
       "      <th>Polish</th>\n",
       "      <th>Price</th>\n",
       "      <th>Shape</th>\n",
       "      <th>Stock Number</th>\n",
       "      <th>Symmetry</th>\n",
       "      <th>Table</th>\n",
       "    </tr>\n",
       "  </thead>\n",
       "  <tbody>\n",
       "    <tr>\n",
       "      <th>0</th>\n",
       "      <td>0.90</td>\n",
       "      <td>VVS1</td>\n",
       "      <td>E</td>\n",
       "      <td>Very Good</td>\n",
       "      <td>nan</td>\n",
       "      <td>NaN</td>\n",
       "      <td>NaN</td>\n",
       "      <td>NaN</td>\n",
       "      <td>NaN</td>\n",
       "      <td>NaN</td>\n",
       "      <td>NaN</td>\n",
       "      <td>nan</td>\n",
       "      <td>Cushion</td>\n",
       "      <td>2905514A</td>\n",
       "      <td>NaN</td>\n",
       "      <td>nan</td>\n",
       "    </tr>\n",
       "    <tr>\n",
       "      <th>1</th>\n",
       "      <td>1.07</td>\n",
       "      <td>VS1</td>\n",
       "      <td>I</td>\n",
       "      <td>Very Good</td>\n",
       "      <td>0.68</td>\n",
       "      <td>None</td>\n",
       "      <td>Natural, untreated diamond</td>\n",
       "      <td>Medium - Extremely Thick</td>\n",
       "      <td>6.22mm x 5.58mm x 3.81mm</td>\n",
       "      <td>Russia</td>\n",
       "      <td>Excellent</td>\n",
       "      <td>3,400.00</td>\n",
       "      <td>Cushion</td>\n",
       "      <td>2523116AB</td>\n",
       "      <td>Very Good</td>\n",
       "      <td>0.62</td>\n",
       "    </tr>\n",
       "    <tr>\n",
       "      <th>2</th>\n",
       "      <td>1.71</td>\n",
       "      <td>VVS2</td>\n",
       "      <td>D</td>\n",
       "      <td>Very Good</td>\n",
       "      <td>0.71</td>\n",
       "      <td>Medium</td>\n",
       "      <td>Natural, untreated diamond</td>\n",
       "      <td>Medium - Extremely Thick</td>\n",
       "      <td>7.23mm x 6.26mm x 4.47mm</td>\n",
       "      <td>Botswana Sort</td>\n",
       "      <td>Excellent</td>\n",
       "      <td>15,290.00</td>\n",
       "      <td>Cushion</td>\n",
       "      <td>2905892AY</td>\n",
       "      <td>Very Good</td>\n",
       "      <td>0.64</td>\n",
       "    </tr>\n",
       "    <tr>\n",
       "      <th>3</th>\n",
       "      <td>1.02</td>\n",
       "      <td>VS2</td>\n",
       "      <td>E</td>\n",
       "      <td>Very Good</td>\n",
       "      <td>0.73</td>\n",
       "      <td>Medium</td>\n",
       "      <td>Natural, untreated diamond</td>\n",
       "      <td>Thick - Extremely Thick</td>\n",
       "      <td>5.60mm x 5.44mm x 3.98mm</td>\n",
       "      <td>Botswana Sort</td>\n",
       "      <td>Very Good</td>\n",
       "      <td>4,820.00</td>\n",
       "      <td>Cushion</td>\n",
       "      <td>2988421AY</td>\n",
       "      <td>Good</td>\n",
       "      <td>0.62</td>\n",
       "    </tr>\n",
       "    <tr>\n",
       "      <th>4</th>\n",
       "      <td>0.91</td>\n",
       "      <td>SI1</td>\n",
       "      <td>F</td>\n",
       "      <td>Very Good</td>\n",
       "      <td>nan</td>\n",
       "      <td>NaN</td>\n",
       "      <td>NaN</td>\n",
       "      <td>NaN</td>\n",
       "      <td>NaN</td>\n",
       "      <td>NaN</td>\n",
       "      <td>NaN</td>\n",
       "      <td>nan</td>\n",
       "      <td>Cushion</td>\n",
       "      <td>2905877AY</td>\n",
       "      <td>NaN</td>\n",
       "      <td>nan</td>\n",
       "    </tr>\n",
       "  </tbody>\n",
       "</table>\n",
       "</div>"
      ],
      "text/plain": [
       "   Carat Weight Clarity Color        Cut  Depth Fluorescence  \\\n",
       "0          0.90    VVS1     E  Very Good    nan          NaN   \n",
       "1          1.07     VS1     I  Very Good   0.68         None   \n",
       "2          1.71    VVS2     D  Very Good   0.71       Medium   \n",
       "3          1.02     VS2     E  Very Good   0.73       Medium   \n",
       "4          0.91     SI1     F  Very Good    nan          NaN   \n",
       "\n",
       "                     Gemstone                    Girdle  \\\n",
       "0                         NaN                       NaN   \n",
       "1  Natural, untreated diamond  Medium - Extremely Thick   \n",
       "2  Natural, untreated diamond  Medium - Extremely Thick   \n",
       "3  Natural, untreated diamond   Thick - Extremely Thick   \n",
       "4                         NaN                       NaN   \n",
       "\n",
       "               Measurements         Origin     Polish     Price    Shape  \\\n",
       "0                       NaN            NaN        NaN       nan  Cushion   \n",
       "1  6.22mm x 5.58mm x 3.81mm         Russia  Excellent  3,400.00  Cushion   \n",
       "2  7.23mm x 6.26mm x 4.47mm  Botswana Sort  Excellent 15,290.00  Cushion   \n",
       "3  5.60mm x 5.44mm x 3.98mm  Botswana Sort  Very Good  4,820.00  Cushion   \n",
       "4                       NaN            NaN        NaN       nan  Cushion   \n",
       "\n",
       "  Stock Number   Symmetry  Table  \n",
       "0     2905514A        NaN    nan  \n",
       "1    2523116AB  Very Good   0.62  \n",
       "2    2905892AY  Very Good   0.64  \n",
       "3    2988421AY       Good   0.62  \n",
       "4    2905877AY        NaN    nan  "
      ]
     },
     "execution_count": 412,
     "metadata": {},
     "output_type": "execute_result"
    }
   ],
   "source": [
    "df.head()"
   ]
  },
  {
   "cell_type": "markdown",
   "metadata": {},
   "source": [
    "# Remove null values"
   ]
  },
  {
   "cell_type": "code",
   "execution_count": 413,
   "metadata": {},
   "outputs": [
    {
     "data": {
      "text/plain": [
       "Carat Weight       0\n",
       "Clarity            0\n",
       "Color              0\n",
       "Cut                0\n",
       "Depth           1393\n",
       "Fluorescence    1400\n",
       "Gemstone        1377\n",
       "Girdle          2120\n",
       "Measurements    1377\n",
       "Origin          1377\n",
       "Polish          1377\n",
       "Price           1377\n",
       "Shape              0\n",
       "Stock Number       0\n",
       "Symmetry        1377\n",
       "Table           1390\n",
       "dtype: int64"
      ]
     },
     "execution_count": 413,
     "metadata": {},
     "output_type": "execute_result"
    }
   ],
   "source": [
    "df.isnull().sum()"
   ]
  },
  {
   "cell_type": "code",
   "execution_count": 414,
   "metadata": {},
   "outputs": [],
   "source": [
    "df = df.loc[df['Price'].notnull()]"
   ]
  },
  {
   "cell_type": "markdown",
   "metadata": {},
   "source": [
    "After removing all the entries where price is null, the null values problem go away for the most part."
   ]
  },
  {
   "cell_type": "code",
   "execution_count": 415,
   "metadata": {},
   "outputs": [
    {
     "data": {
      "text/plain": [
       "Carat Weight      0\n",
       "Clarity           0\n",
       "Color             0\n",
       "Cut               0\n",
       "Depth            16\n",
       "Fluorescence     23\n",
       "Gemstone          0\n",
       "Girdle          743\n",
       "Measurements      0\n",
       "Origin            0\n",
       "Polish            0\n",
       "Price             0\n",
       "Shape             0\n",
       "Stock Number      0\n",
       "Symmetry          0\n",
       "Table            13\n",
       "dtype: int64"
      ]
     },
     "execution_count": 415,
     "metadata": {},
     "output_type": "execute_result"
    }
   ],
   "source": [
    "df.isnull().sum()"
   ]
  },
  {
   "cell_type": "code",
   "execution_count": 416,
   "metadata": {},
   "outputs": [],
   "source": [
    "meanTable = df['Table'].mean()\n",
    "df['Table'] = df['Table'].fillna(meanTable)"
   ]
  },
  {
   "cell_type": "code",
   "execution_count": 417,
   "metadata": {},
   "outputs": [],
   "source": [
    "meanDepth = df['Depth'].mean()\n",
    "df['Depth'] = df['Depth'].fillna(meanDepth)"
   ]
  },
  {
   "cell_type": "code",
   "execution_count": 418,
   "metadata": {},
   "outputs": [],
   "source": [
    "df['Fluorescence'] = df['Fluorescence'].fillna('None')"
   ]
  },
  {
   "cell_type": "markdown",
   "metadata": {},
   "source": [
    "# EDA"
   ]
  },
  {
   "cell_type": "markdown",
   "metadata": {},
   "source": [
    "Pair plot. What are some correlations?"
   ]
  },
  {
   "cell_type": "code",
   "execution_count": 419,
   "metadata": {},
   "outputs": [
    {
     "data": {
      "text/html": [
       "<div>\n",
       "<style scoped>\n",
       "    .dataframe tbody tr th:only-of-type {\n",
       "        vertical-align: middle;\n",
       "    }\n",
       "\n",
       "    .dataframe tbody tr th {\n",
       "        vertical-align: top;\n",
       "    }\n",
       "\n",
       "    .dataframe thead th {\n",
       "        text-align: right;\n",
       "    }\n",
       "</style>\n",
       "<table border=\"1\" class=\"dataframe\">\n",
       "  <thead>\n",
       "    <tr style=\"text-align: right;\">\n",
       "      <th></th>\n",
       "      <th>Carat Weight</th>\n",
       "      <th>Depth</th>\n",
       "      <th>Price</th>\n",
       "      <th>Table</th>\n",
       "    </tr>\n",
       "  </thead>\n",
       "  <tbody>\n",
       "    <tr>\n",
       "      <th>count</th>\n",
       "      <td>27,799.00</td>\n",
       "      <td>27,799.00</td>\n",
       "      <td>27,799.00</td>\n",
       "      <td>27,799.00</td>\n",
       "    </tr>\n",
       "    <tr>\n",
       "      <th>mean</th>\n",
       "      <td>0.54</td>\n",
       "      <td>0.62</td>\n",
       "      <td>2,622.41</td>\n",
       "      <td>0.59</td>\n",
       "    </tr>\n",
       "    <tr>\n",
       "      <th>std</th>\n",
       "      <td>0.39</td>\n",
       "      <td>0.02</td>\n",
       "      <td>11,889.11</td>\n",
       "      <td>0.03</td>\n",
       "    </tr>\n",
       "    <tr>\n",
       "      <th>min</th>\n",
       "      <td>0.25</td>\n",
       "      <td>0.51</td>\n",
       "      <td>490.00</td>\n",
       "      <td>0.50</td>\n",
       "    </tr>\n",
       "    <tr>\n",
       "      <th>25%</th>\n",
       "      <td>0.31</td>\n",
       "      <td>0.61</td>\n",
       "      <td>930.00</td>\n",
       "      <td>0.57</td>\n",
       "    </tr>\n",
       "    <tr>\n",
       "      <th>50%</th>\n",
       "      <td>0.40</td>\n",
       "      <td>0.62</td>\n",
       "      <td>1,240.00</td>\n",
       "      <td>0.58</td>\n",
       "    </tr>\n",
       "    <tr>\n",
       "      <th>75%</th>\n",
       "      <td>0.60</td>\n",
       "      <td>0.63</td>\n",
       "      <td>2,320.00</td>\n",
       "      <td>0.60</td>\n",
       "    </tr>\n",
       "    <tr>\n",
       "      <th>max</th>\n",
       "      <td>10.37</td>\n",
       "      <td>0.83</td>\n",
       "      <td>1,799,720.00</td>\n",
       "      <td>0.83</td>\n",
       "    </tr>\n",
       "  </tbody>\n",
       "</table>\n",
       "</div>"
      ],
      "text/plain": [
       "       Carat Weight     Depth        Price     Table\n",
       "count     27,799.00 27,799.00    27,799.00 27,799.00\n",
       "mean           0.54      0.62     2,622.41      0.59\n",
       "std            0.39      0.02    11,889.11      0.03\n",
       "min            0.25      0.51       490.00      0.50\n",
       "25%            0.31      0.61       930.00      0.57\n",
       "50%            0.40      0.62     1,240.00      0.58\n",
       "75%            0.60      0.63     2,320.00      0.60\n",
       "max           10.37      0.83 1,799,720.00      0.83"
      ]
     },
     "execution_count": 419,
     "metadata": {},
     "output_type": "execute_result"
    }
   ],
   "source": [
    "df.describe()"
   ]
  },
  {
   "cell_type": "code",
   "execution_count": 420,
   "metadata": {},
   "outputs": [
    {
     "data": {
      "text/plain": [
       "<seaborn.axisgrid.PairGrid at 0x7f5480f33940>"
      ]
     },
     "execution_count": 420,
     "metadata": {},
     "output_type": "execute_result"
    },
    {
     "data": {
      "image/png": "[encoded data removed]",
      "text/plain": [
       "<Figure size 720x720 with 20 Axes>"
      ]
     },
     "metadata": {},
     "output_type": "display_data"
    }
   ],
   "source": [
    "sns.pairplot(df)"
   ]
  },
  {
   "cell_type": "markdown",
   "metadata": {},
   "source": [
    "As you can see the priciest diamonds  are skewing the charts in a funny way..."
   ]
  },
  {
   "cell_type": "code",
   "execution_count": 421,
   "metadata": {},
   "outputs": [
    {
     "data": {
      "text/html": [
       "<div>\n",
       "<style scoped>\n",
       "    .dataframe tbody tr th:only-of-type {\n",
       "        vertical-align: middle;\n",
       "    }\n",
       "\n",
       "    .dataframe tbody tr th {\n",
       "        vertical-align: top;\n",
       "    }\n",
       "\n",
       "    .dataframe thead th {\n",
       "        text-align: right;\n",
       "    }\n",
       "</style>\n",
       "<table border=\"1\" class=\"dataframe\">\n",
       "  <thead>\n",
       "    <tr style=\"text-align: right;\">\n",
       "      <th></th>\n",
       "      <th>Carat Weight</th>\n",
       "      <th>Clarity</th>\n",
       "      <th>Color</th>\n",
       "      <th>Cut</th>\n",
       "      <th>Depth</th>\n",
       "      <th>Fluorescence</th>\n",
       "      <th>Gemstone</th>\n",
       "      <th>Girdle</th>\n",
       "      <th>Measurements</th>\n",
       "      <th>Origin</th>\n",
       "      <th>Polish</th>\n",
       "      <th>Price</th>\n",
       "      <th>Shape</th>\n",
       "      <th>Stock Number</th>\n",
       "      <th>Symmetry</th>\n",
       "      <th>Table</th>\n",
       "    </tr>\n",
       "  </thead>\n",
       "  <tbody>\n",
       "    <tr>\n",
       "      <th>4527</th>\n",
       "      <td>10.37</td>\n",
       "      <td>FL</td>\n",
       "      <td>D</td>\n",
       "      <td>Super Ideal</td>\n",
       "      <td>0.62</td>\n",
       "      <td>None</td>\n",
       "      <td>Natural, untreated diamond</td>\n",
       "      <td>Medium</td>\n",
       "      <td>14.07mm x 14.00mm x 8.66mm</td>\n",
       "      <td>Russia</td>\n",
       "      <td>Excellent</td>\n",
       "      <td>1,799,720.00</td>\n",
       "      <td>Round</td>\n",
       "      <td>2992966A</td>\n",
       "      <td>Excellent</td>\n",
       "      <td>0.57</td>\n",
       "    </tr>\n",
       "    <tr>\n",
       "      <th>1453</th>\n",
       "      <td>5.70</td>\n",
       "      <td>FL</td>\n",
       "      <td>F</td>\n",
       "      <td>Super Ideal</td>\n",
       "      <td>0.62</td>\n",
       "      <td>None</td>\n",
       "      <td>Natural, untreated diamond</td>\n",
       "      <td>Medium</td>\n",
       "      <td>11.46mm x 11.42mm x 7.15mm</td>\n",
       "      <td>Botswana Sort</td>\n",
       "      <td>Excellent</td>\n",
       "      <td>391,820.00</td>\n",
       "      <td>Round</td>\n",
       "      <td>2942012A</td>\n",
       "      <td>Excellent</td>\n",
       "      <td>0.56</td>\n",
       "    </tr>\n",
       "    <tr>\n",
       "      <th>728</th>\n",
       "      <td>3.01</td>\n",
       "      <td>IF</td>\n",
       "      <td>D</td>\n",
       "      <td>Super Ideal</td>\n",
       "      <td>0.62</td>\n",
       "      <td>None</td>\n",
       "      <td>Natural, untreated diamond</td>\n",
       "      <td>Medium - Slightly Thick</td>\n",
       "      <td>9.24mm x 9.19mm x 5.75mm</td>\n",
       "      <td>Botswana Sort</td>\n",
       "      <td>Excellent</td>\n",
       "      <td>159,090.00</td>\n",
       "      <td>Round</td>\n",
       "      <td>2939264A</td>\n",
       "      <td>Excellent</td>\n",
       "      <td>0.58</td>\n",
       "    </tr>\n",
       "    <tr>\n",
       "      <th>26388</th>\n",
       "      <td>7.16</td>\n",
       "      <td>SI2</td>\n",
       "      <td>I</td>\n",
       "      <td>Super Ideal</td>\n",
       "      <td>0.63</td>\n",
       "      <td>None</td>\n",
       "      <td>Natural, untreated diamond</td>\n",
       "      <td>Thin - Medium</td>\n",
       "      <td>12.34mm x 12.27mm x 7.71mm</td>\n",
       "      <td>Russia</td>\n",
       "      <td>Excellent</td>\n",
       "      <td>124,680.00</td>\n",
       "      <td>Round</td>\n",
       "      <td>2890592Y</td>\n",
       "      <td>Excellent</td>\n",
       "      <td>0.57</td>\n",
       "    </tr>\n",
       "    <tr>\n",
       "      <th>22548</th>\n",
       "      <td>3.33</td>\n",
       "      <td>FL</td>\n",
       "      <td>D</td>\n",
       "      <td>Very Good</td>\n",
       "      <td>0.60</td>\n",
       "      <td>None</td>\n",
       "      <td>Natural, untreated diamond</td>\n",
       "      <td>Slightly Thick - Thick</td>\n",
       "      <td>11.94mm x 8.62mm x 5.21mm</td>\n",
       "      <td>Botswana Sort</td>\n",
       "      <td>Excellent</td>\n",
       "      <td>114,910.00</td>\n",
       "      <td>Oval</td>\n",
       "      <td>2998388AB</td>\n",
       "      <td>Excellent</td>\n",
       "      <td>0.61</td>\n",
       "    </tr>\n",
       "  </tbody>\n",
       "</table>\n",
       "</div>"
      ],
      "text/plain": [
       "       Carat Weight Clarity Color          Cut  Depth Fluorescence  \\\n",
       "4527          10.37      FL     D  Super Ideal   0.62         None   \n",
       "1453           5.70      FL     F  Super Ideal   0.62         None   \n",
       "728            3.01      IF     D  Super Ideal   0.62         None   \n",
       "26388          7.16     SI2     I  Super Ideal   0.63         None   \n",
       "22548          3.33      FL     D    Very Good   0.60         None   \n",
       "\n",
       "                         Gemstone                   Girdle  \\\n",
       "4527   Natural, untreated diamond                   Medium   \n",
       "1453   Natural, untreated diamond                   Medium   \n",
       "728    Natural, untreated diamond  Medium - Slightly Thick   \n",
       "26388  Natural, untreated diamond            Thin - Medium   \n",
       "22548  Natural, untreated diamond   Slightly Thick - Thick   \n",
       "\n",
       "                     Measurements         Origin     Polish        Price  \\\n",
       "4527   14.07mm x 14.00mm x 8.66mm         Russia  Excellent 1,799,720.00   \n",
       "1453   11.46mm x 11.42mm x 7.15mm  Botswana Sort  Excellent   391,820.00   \n",
       "728      9.24mm x 9.19mm x 5.75mm  Botswana Sort  Excellent   159,090.00   \n",
       "26388  12.34mm x 12.27mm x 7.71mm         Russia  Excellent   124,680.00   \n",
       "22548   11.94mm x 8.62mm x 5.21mm  Botswana Sort  Excellent   114,910.00   \n",
       "\n",
       "       Shape Stock Number   Symmetry  Table  \n",
       "4527   Round     2992966A  Excellent   0.57  \n",
       "1453   Round     2942012A  Excellent   0.56  \n",
       "728    Round     2939264A  Excellent   0.58  \n",
       "26388  Round     2890592Y  Excellent   0.57  \n",
       "22548   Oval    2998388AB  Excellent   0.61  "
      ]
     },
     "execution_count": 421,
     "metadata": {},
     "output_type": "execute_result"
    }
   ],
   "source": [
    "df.nlargest(5,'Price')"
   ]
  },
  {
   "cell_type": "markdown",
   "metadata": {},
   "source": [
    "Let's leave the largest 2 diamonds out and do the pair plot again."
   ]
  },
  {
   "cell_type": "code",
   "execution_count": 422,
   "metadata": {},
   "outputs": [],
   "source": [
    "df2 = df.loc[df.Price <= 200000]"
   ]
  },
  {
   "cell_type": "code",
   "execution_count": 423,
   "metadata": {},
   "outputs": [
    {
     "data": {
      "text/plain": [
       "<seaborn.axisgrid.PairGrid at 0x7f547b8bb828>"
      ]
     },
     "execution_count": 423,
     "metadata": {},
     "output_type": "execute_result"
    },
    {
     "data": {
      "image/png": "[encoded data removed]",
      "text/plain": [
       "<Figure size 720x720 with 20 Axes>"
      ]
     },
     "metadata": {},
     "output_type": "display_data"
    }
   ],
   "source": [
    "sns.pairplot(df2)"
   ]
  },
  {
   "cell_type": "markdown",
   "metadata": {},
   "source": [
    "Now the charts are behaving more as I expected.\n",
    "In terms of carat weight vs price, price increases as weight increases. However, as you go to a bigger weight, you also see much more variety in price!\n",
    "As for table (a measure of width) vs depth, did I just discover a cool correlation here? Turns out people expect a certain diamond shape. This means the two tend to move in tandem."
   ]
  },
  {
   "cell_type": "markdown",
   "metadata": {},
   "source": [
    "## My girlfriend wants a heart-shaped diamond. How do I tell her that's a bad idea?"
   ]
  },
  {
   "cell_type": "code",
   "execution_count": 307,
   "metadata": {},
   "outputs": [
    {
     "data": {
      "image/png": "[encoded data removed]",
      "text/plain": [
       "<Figure size 576x288 with 1 Axes>"
      ]
     },
     "metadata": {},
     "output_type": "display_data"
    }
   ],
   "source": [
    "plt.figure(figsize = (8,4))\n",
    "sns.countplot(x = df2['Shape'])\n",
    "plt.show()"
   ]
  },
  {
   "cell_type": "code",
   "execution_count": 308,
   "metadata": {},
   "outputs": [
    {
     "data": {
      "text/html": [
       "<div>\n",
       "<style scoped>\n",
       "    .dataframe tbody tr th:only-of-type {\n",
       "        vertical-align: middle;\n",
       "    }\n",
       "\n",
       "    .dataframe tbody tr th {\n",
       "        vertical-align: top;\n",
       "    }\n",
       "\n",
       "    .dataframe thead tr th {\n",
       "        text-align: left;\n",
       "    }\n",
       "\n",
       "    .dataframe thead tr:last-of-type th {\n",
       "        text-align: right;\n",
       "    }\n",
       "</style>\n",
       "<table border=\"1\" class=\"dataframe\">\n",
       "  <thead>\n",
       "    <tr>\n",
       "      <th></th>\n",
       "      <th colspan=\"10\" halign=\"left\">Price</th>\n",
       "    </tr>\n",
       "    <tr>\n",
       "      <th>Shape</th>\n",
       "      <th>Asscher</th>\n",
       "      <th>Cushion</th>\n",
       "      <th>Emerald</th>\n",
       "      <th>Heart</th>\n",
       "      <th>Marquise</th>\n",
       "      <th>Oval</th>\n",
       "      <th>Pear</th>\n",
       "      <th>Princess</th>\n",
       "      <th>Radiant</th>\n",
       "      <th>Round</th>\n",
       "    </tr>\n",
       "    <tr>\n",
       "      <th>Cut</th>\n",
       "      <th></th>\n",
       "      <th></th>\n",
       "      <th></th>\n",
       "      <th></th>\n",
       "      <th></th>\n",
       "      <th></th>\n",
       "      <th></th>\n",
       "      <th></th>\n",
       "      <th></th>\n",
       "      <th></th>\n",
       "    </tr>\n",
       "  </thead>\n",
       "  <tbody>\n",
       "    <tr>\n",
       "      <th>Fair</th>\n",
       "      <td>nan</td>\n",
       "      <td>8.00</td>\n",
       "      <td>2.00</td>\n",
       "      <td>2.00</td>\n",
       "      <td>35.00</td>\n",
       "      <td>5.00</td>\n",
       "      <td>3.00</td>\n",
       "      <td>2.00</td>\n",
       "      <td>nan</td>\n",
       "      <td>129.00</td>\n",
       "    </tr>\n",
       "    <tr>\n",
       "      <th>Good</th>\n",
       "      <td>21.00</td>\n",
       "      <td>18.00</td>\n",
       "      <td>5.00</td>\n",
       "      <td>16.00</td>\n",
       "      <td>31.00</td>\n",
       "      <td>91.00</td>\n",
       "      <td>53.00</td>\n",
       "      <td>24.00</td>\n",
       "      <td>1.00</td>\n",
       "      <td>718.00</td>\n",
       "    </tr>\n",
       "    <tr>\n",
       "      <th>Ideal</th>\n",
       "      <td>2.00</td>\n",
       "      <td>83.00</td>\n",
       "      <td>222.00</td>\n",
       "      <td>61.00</td>\n",
       "      <td>43.00</td>\n",
       "      <td>169.00</td>\n",
       "      <td>208.00</td>\n",
       "      <td>242.00</td>\n",
       "      <td>26.00</td>\n",
       "      <td>4,276.00</td>\n",
       "    </tr>\n",
       "    <tr>\n",
       "      <th>Super Ideal</th>\n",
       "      <td>6.00</td>\n",
       "      <td>28.00</td>\n",
       "      <td>78.00</td>\n",
       "      <td>4.00</td>\n",
       "      <td>3.00</td>\n",
       "      <td>25.00</td>\n",
       "      <td>20.00</td>\n",
       "      <td>41.00</td>\n",
       "      <td>7.00</td>\n",
       "      <td>15,835.00</td>\n",
       "    </tr>\n",
       "    <tr>\n",
       "      <th>Very Good</th>\n",
       "      <td>37.00</td>\n",
       "      <td>205.00</td>\n",
       "      <td>52.00</td>\n",
       "      <td>69.00</td>\n",
       "      <td>42.00</td>\n",
       "      <td>192.00</td>\n",
       "      <td>155.00</td>\n",
       "      <td>117.00</td>\n",
       "      <td>7.00</td>\n",
       "      <td>4,378.00</td>\n",
       "    </tr>\n",
       "  </tbody>\n",
       "</table>\n",
       "</div>"
      ],
      "text/plain": [
       "              Price                                                        \\\n",
       "Shape       Asscher Cushion Emerald Heart Marquise   Oval   Pear Princess   \n",
       "Cut                                                                         \n",
       "Fair            nan    8.00    2.00  2.00    35.00   5.00   3.00     2.00   \n",
       "Good          21.00   18.00    5.00 16.00    31.00  91.00  53.00    24.00   \n",
       "Ideal          2.00   83.00  222.00 61.00    43.00 169.00 208.00   242.00   \n",
       "Super Ideal    6.00   28.00   78.00  4.00     3.00  25.00  20.00    41.00   \n",
       "Very Good     37.00  205.00   52.00 69.00    42.00 192.00 155.00   117.00   \n",
       "\n",
       "                               \n",
       "Shape       Radiant     Round  \n",
       "Cut                            \n",
       "Fair            nan    129.00  \n",
       "Good           1.00    718.00  \n",
       "Ideal         26.00  4,276.00  \n",
       "Super Ideal    7.00 15,835.00  \n",
       "Very Good      7.00  4,378.00  "
      ]
     },
     "execution_count": 308,
     "metadata": {},
     "output_type": "execute_result"
    }
   ],
   "source": [
    "pd.pivot_table(df2, values = ['Price'], index = 'Cut',columns = 'Shape', aggfunc = 'count')"
   ]
  },
  {
   "cell_type": "code",
   "execution_count": 309,
   "metadata": {},
   "outputs": [
    {
     "data": {
      "text/html": [
       "<div>\n",
       "<style scoped>\n",
       "    .dataframe tbody tr th:only-of-type {\n",
       "        vertical-align: middle;\n",
       "    }\n",
       "\n",
       "    .dataframe tbody tr th {\n",
       "        vertical-align: top;\n",
       "    }\n",
       "\n",
       "    .dataframe thead tr th {\n",
       "        text-align: left;\n",
       "    }\n",
       "\n",
       "    .dataframe thead tr:last-of-type th {\n",
       "        text-align: right;\n",
       "    }\n",
       "</style>\n",
       "<table border=\"1\" class=\"dataframe\">\n",
       "  <thead>\n",
       "    <tr>\n",
       "      <th></th>\n",
       "      <th colspan=\"11\" halign=\"left\">Price</th>\n",
       "    </tr>\n",
       "    <tr>\n",
       "      <th>Shape</th>\n",
       "      <th>Asscher</th>\n",
       "      <th>Cushion</th>\n",
       "      <th>Emerald</th>\n",
       "      <th>Heart</th>\n",
       "      <th>Marquise</th>\n",
       "      <th>Oval</th>\n",
       "      <th>Pear</th>\n",
       "      <th>Princess</th>\n",
       "      <th>Radiant</th>\n",
       "      <th>Round</th>\n",
       "      <th>All</th>\n",
       "    </tr>\n",
       "    <tr>\n",
       "      <th>Cut</th>\n",
       "      <th></th>\n",
       "      <th></th>\n",
       "      <th></th>\n",
       "      <th></th>\n",
       "      <th></th>\n",
       "      <th></th>\n",
       "      <th></th>\n",
       "      <th></th>\n",
       "      <th></th>\n",
       "      <th></th>\n",
       "      <th></th>\n",
       "    </tr>\n",
       "  </thead>\n",
       "  <tbody>\n",
       "    <tr>\n",
       "      <th>Fair</th>\n",
       "      <td>0.00</td>\n",
       "      <td>0.02</td>\n",
       "      <td>0.01</td>\n",
       "      <td>0.01</td>\n",
       "      <td>0.23</td>\n",
       "      <td>0.01</td>\n",
       "      <td>0.01</td>\n",
       "      <td>0.00</td>\n",
       "      <td>0.00</td>\n",
       "      <td>0.01</td>\n",
       "      <td>0.01</td>\n",
       "    </tr>\n",
       "    <tr>\n",
       "      <th>Good</th>\n",
       "      <td>0.32</td>\n",
       "      <td>0.05</td>\n",
       "      <td>0.01</td>\n",
       "      <td>0.11</td>\n",
       "      <td>0.20</td>\n",
       "      <td>0.19</td>\n",
       "      <td>0.12</td>\n",
       "      <td>0.06</td>\n",
       "      <td>0.02</td>\n",
       "      <td>0.03</td>\n",
       "      <td>0.04</td>\n",
       "    </tr>\n",
       "    <tr>\n",
       "      <th>Ideal</th>\n",
       "      <td>0.03</td>\n",
       "      <td>0.24</td>\n",
       "      <td>0.62</td>\n",
       "      <td>0.40</td>\n",
       "      <td>0.28</td>\n",
       "      <td>0.35</td>\n",
       "      <td>0.47</td>\n",
       "      <td>0.57</td>\n",
       "      <td>0.63</td>\n",
       "      <td>0.17</td>\n",
       "      <td>0.19</td>\n",
       "    </tr>\n",
       "    <tr>\n",
       "      <th>Super Ideal</th>\n",
       "      <td>0.09</td>\n",
       "      <td>0.08</td>\n",
       "      <td>0.22</td>\n",
       "      <td>0.03</td>\n",
       "      <td>0.02</td>\n",
       "      <td>0.05</td>\n",
       "      <td>0.05</td>\n",
       "      <td>0.10</td>\n",
       "      <td>0.17</td>\n",
       "      <td>0.62</td>\n",
       "      <td>0.58</td>\n",
       "    </tr>\n",
       "    <tr>\n",
       "      <th>Very Good</th>\n",
       "      <td>0.56</td>\n",
       "      <td>0.60</td>\n",
       "      <td>0.14</td>\n",
       "      <td>0.45</td>\n",
       "      <td>0.27</td>\n",
       "      <td>0.40</td>\n",
       "      <td>0.35</td>\n",
       "      <td>0.27</td>\n",
       "      <td>0.17</td>\n",
       "      <td>0.17</td>\n",
       "      <td>0.19</td>\n",
       "    </tr>\n",
       "    <tr>\n",
       "      <th>All</th>\n",
       "      <td>1.00</td>\n",
       "      <td>1.00</td>\n",
       "      <td>1.00</td>\n",
       "      <td>1.00</td>\n",
       "      <td>1.00</td>\n",
       "      <td>1.00</td>\n",
       "      <td>1.00</td>\n",
       "      <td>1.00</td>\n",
       "      <td>1.00</td>\n",
       "      <td>1.00</td>\n",
       "      <td>1.00</td>\n",
       "    </tr>\n",
       "  </tbody>\n",
       "</table>\n",
       "</div>"
      ],
      "text/plain": [
       "              Price                                                            \\\n",
       "Shape       Asscher Cushion Emerald Heart Marquise Oval Pear Princess Radiant   \n",
       "Cut                                                                             \n",
       "Fair           0.00    0.02    0.01  0.01     0.23 0.01 0.01     0.00    0.00   \n",
       "Good           0.32    0.05    0.01  0.11     0.20 0.19 0.12     0.06    0.02   \n",
       "Ideal          0.03    0.24    0.62  0.40     0.28 0.35 0.47     0.57    0.63   \n",
       "Super Ideal    0.09    0.08    0.22  0.03     0.02 0.05 0.05     0.10    0.17   \n",
       "Very Good      0.56    0.60    0.14  0.45     0.27 0.40 0.35     0.27    0.17   \n",
       "All            1.00    1.00    1.00  1.00     1.00 1.00 1.00     1.00    1.00   \n",
       "\n",
       "                        \n",
       "Shape       Round  All  \n",
       "Cut                     \n",
       "Fair         0.01 0.01  \n",
       "Good         0.03 0.04  \n",
       "Ideal        0.17 0.19  \n",
       "Super Ideal  0.62 0.58  \n",
       "Very Good    0.17 0.19  \n",
       "All          1.00 1.00  "
      ]
     },
     "execution_count": 309,
     "metadata": {},
     "output_type": "execute_result"
    }
   ],
   "source": [
    "table = pd.pivot_table(df2, values = ['Price'], index = 'Cut',columns = 'Shape', aggfunc=len, margins=True, dropna=True,fill_value=0)\n",
    "table2 = table.div(table.iloc[-1,:], axis=1)\n",
    "table2"
   ]
  },
  {
   "cell_type": "markdown",
   "metadata": {},
   "source": [
    "Tell your girlfriend she deserves the absolute best cut for the diamond and it's just difficult to get the very best in the shape of heart!"
   ]
  },
  {
   "cell_type": "markdown",
   "metadata": {},
   "source": [
    "What about color? Do they only use inferior colors for heart-shaped diamonds to fool us?"
   ]
  },
  {
   "cell_type": "code",
   "execution_count": 310,
   "metadata": {},
   "outputs": [
    {
     "data": {
      "text/html": [
       "<div>\n",
       "<style scoped>\n",
       "    .dataframe tbody tr th:only-of-type {\n",
       "        vertical-align: middle;\n",
       "    }\n",
       "\n",
       "    .dataframe tbody tr th {\n",
       "        vertical-align: top;\n",
       "    }\n",
       "\n",
       "    .dataframe thead tr th {\n",
       "        text-align: left;\n",
       "    }\n",
       "\n",
       "    .dataframe thead tr:last-of-type th {\n",
       "        text-align: right;\n",
       "    }\n",
       "</style>\n",
       "<table border=\"1\" class=\"dataframe\">\n",
       "  <thead>\n",
       "    <tr>\n",
       "      <th></th>\n",
       "      <th colspan=\"10\" halign=\"left\">Price</th>\n",
       "    </tr>\n",
       "    <tr>\n",
       "      <th>Shape</th>\n",
       "      <th>Asscher</th>\n",
       "      <th>Cushion</th>\n",
       "      <th>Emerald</th>\n",
       "      <th>Heart</th>\n",
       "      <th>Marquise</th>\n",
       "      <th>Oval</th>\n",
       "      <th>Pear</th>\n",
       "      <th>Princess</th>\n",
       "      <th>Radiant</th>\n",
       "      <th>Round</th>\n",
       "    </tr>\n",
       "    <tr>\n",
       "      <th>Color</th>\n",
       "      <th></th>\n",
       "      <th></th>\n",
       "      <th></th>\n",
       "      <th></th>\n",
       "      <th></th>\n",
       "      <th></th>\n",
       "      <th></th>\n",
       "      <th></th>\n",
       "      <th></th>\n",
       "      <th></th>\n",
       "    </tr>\n",
       "  </thead>\n",
       "  <tbody>\n",
       "    <tr>\n",
       "      <th>D</th>\n",
       "      <td>4</td>\n",
       "      <td>29</td>\n",
       "      <td>45</td>\n",
       "      <td>25</td>\n",
       "      <td>40</td>\n",
       "      <td>92</td>\n",
       "      <td>107</td>\n",
       "      <td>18</td>\n",
       "      <td>2</td>\n",
       "      <td>3718</td>\n",
       "    </tr>\n",
       "    <tr>\n",
       "      <th>E</th>\n",
       "      <td>10</td>\n",
       "      <td>53</td>\n",
       "      <td>70</td>\n",
       "      <td>30</td>\n",
       "      <td>28</td>\n",
       "      <td>63</td>\n",
       "      <td>81</td>\n",
       "      <td>68</td>\n",
       "      <td>7</td>\n",
       "      <td>7002</td>\n",
       "    </tr>\n",
       "    <tr>\n",
       "      <th>F</th>\n",
       "      <td>14</td>\n",
       "      <td>74</td>\n",
       "      <td>72</td>\n",
       "      <td>35</td>\n",
       "      <td>32</td>\n",
       "      <td>99</td>\n",
       "      <td>90</td>\n",
       "      <td>98</td>\n",
       "      <td>10</td>\n",
       "      <td>5461</td>\n",
       "    </tr>\n",
       "    <tr>\n",
       "      <th>G</th>\n",
       "      <td>18</td>\n",
       "      <td>74</td>\n",
       "      <td>65</td>\n",
       "      <td>26</td>\n",
       "      <td>19</td>\n",
       "      <td>96</td>\n",
       "      <td>89</td>\n",
       "      <td>82</td>\n",
       "      <td>7</td>\n",
       "      <td>4646</td>\n",
       "    </tr>\n",
       "    <tr>\n",
       "      <th>H</th>\n",
       "      <td>10</td>\n",
       "      <td>43</td>\n",
       "      <td>47</td>\n",
       "      <td>19</td>\n",
       "      <td>18</td>\n",
       "      <td>73</td>\n",
       "      <td>33</td>\n",
       "      <td>67</td>\n",
       "      <td>8</td>\n",
       "      <td>2694</td>\n",
       "    </tr>\n",
       "    <tr>\n",
       "      <th>I</th>\n",
       "      <td>4</td>\n",
       "      <td>40</td>\n",
       "      <td>35</td>\n",
       "      <td>12</td>\n",
       "      <td>7</td>\n",
       "      <td>36</td>\n",
       "      <td>24</td>\n",
       "      <td>55</td>\n",
       "      <td>4</td>\n",
       "      <td>1172</td>\n",
       "    </tr>\n",
       "    <tr>\n",
       "      <th>J</th>\n",
       "      <td>6</td>\n",
       "      <td>29</td>\n",
       "      <td>25</td>\n",
       "      <td>5</td>\n",
       "      <td>10</td>\n",
       "      <td>23</td>\n",
       "      <td>15</td>\n",
       "      <td>38</td>\n",
       "      <td>3</td>\n",
       "      <td>643</td>\n",
       "    </tr>\n",
       "  </tbody>\n",
       "</table>\n",
       "</div>"
      ],
      "text/plain": [
       "        Price                                                                \n",
       "Shape Asscher Cushion Emerald Heart Marquise Oval Pear Princess Radiant Round\n",
       "Color                                                                        \n",
       "D           4      29      45    25       40   92  107       18       2  3718\n",
       "E          10      53      70    30       28   63   81       68       7  7002\n",
       "F          14      74      72    35       32   99   90       98      10  5461\n",
       "G          18      74      65    26       19   96   89       82       7  4646\n",
       "H          10      43      47    19       18   73   33       67       8  2694\n",
       "I           4      40      35    12        7   36   24       55       4  1172\n",
       "J           6      29      25     5       10   23   15       38       3   643"
      ]
     },
     "execution_count": 310,
     "metadata": {},
     "output_type": "execute_result"
    }
   ],
   "source": [
    "pd.pivot_table(df2, values = ['Price'], index = 'Color',columns = 'Shape', aggfunc = 'count')"
   ]
  },
  {
   "cell_type": "markdown",
   "metadata": {},
   "source": [
    "Actually color seems fairly balanced."
   ]
  },
  {
   "cell_type": "markdown",
   "metadata": {},
   "source": [
    "# Handling ordinal variables"
   ]
  },
  {
   "cell_type": "code",
   "execution_count": 355,
   "metadata": {},
   "outputs": [
    {
     "data": {
      "text/plain": [
       "Index(['Carat Weight', 'Clarity', 'Color', 'Cut', 'Depth', 'Fluorescence',\n",
       "       'Gemstone', 'Girdle', 'Measurements', 'Origin', 'Polish', 'Price',\n",
       "       'Shape', 'Stock Number', 'Symmetry', 'Table'],\n",
       "      dtype='object')"
      ]
     },
     "execution_count": 355,
     "metadata": {},
     "output_type": "execute_result"
    }
   ],
   "source": [
    "df2.columns"
   ]
  },
  {
   "cell_type": "code",
   "execution_count": 356,
   "metadata": {},
   "outputs": [
    {
     "name": "stderr",
     "output_type": "stream",
     "text": [
      "/root/anaconda3/lib/python3.6/site-packages/pandas/core/frame.py:3795: SettingWithCopyWarning: \n",
      "A value is trying to be set on a copy of a slice from a DataFrame\n",
      "\n",
      "See the caveats in the documentation: http://pandas.pydata.org/pandas-docs/stable/indexing.html#indexing-view-versus-copy\n",
      "  method=method)\n"
     ]
    }
   ],
   "source": [
    "df2.replace({'Fluorescence':'Very Slight'}, 'Faint', inplace = True)\n",
    "df2.replace({'Fluorescence':'Slight'}, 'Medium', inplace = True)"
   ]
  },
  {
   "cell_type": "code",
   "execution_count": 357,
   "metadata": {},
   "outputs": [],
   "source": [
    "clarityDict = {'SI2':1, 'SI1': 2, 'VS2':3, 'VS1': 4, 'VVS2': 5, 'VVS1': 6, 'IF': 7, 'FL': 8}\n",
    "cutDict = {'Super Ideal': 5,'Ideal': 4, 'Very Good': 3,'Good': 2, 'Fair': 1}\n",
    "colorDict = {'D':7,'E':6,'F':5,'G':4,'H':3,'I':2,'J':1}\n",
    "fDict = {'Very Strong':1,'Strong':2,'Medium':3,'Faint':4,'None':5}\n",
    "polishDict = {'Excellent':4,'Very Good':3,'Good':2,'Fair': 1}\n",
    "symDict = {'Excellent':5,'Very Good':4,'Good':3,'Fair':2, 'Poor': 1}"
   ]
  },
  {
   "cell_type": "code",
   "execution_count": 359,
   "metadata": {},
   "outputs": [
    {
     "name": "stderr",
     "output_type": "stream",
     "text": [
      "/root/anaconda3/lib/python3.6/site-packages/ipykernel_launcher.py:1: SettingWithCopyWarning: \n",
      "A value is trying to be set on a copy of a slice from a DataFrame.\n",
      "Try using .loc[row_indexer,col_indexer] = value instead\n",
      "\n",
      "See the caveats in the documentation: http://pandas.pydata.org/pandas-docs/stable/indexing.html#indexing-view-versus-copy\n",
      "  \"\"\"Entry point for launching an IPython kernel.\n",
      "/root/anaconda3/lib/python3.6/site-packages/ipykernel_launcher.py:2: SettingWithCopyWarning: \n",
      "A value is trying to be set on a copy of a slice from a DataFrame.\n",
      "Try using .loc[row_indexer,col_indexer] = value instead\n",
      "\n",
      "See the caveats in the documentation: http://pandas.pydata.org/pandas-docs/stable/indexing.html#indexing-view-versus-copy\n",
      "  \n",
      "/root/anaconda3/lib/python3.6/site-packages/ipykernel_launcher.py:3: SettingWithCopyWarning: \n",
      "A value is trying to be set on a copy of a slice from a DataFrame.\n",
      "Try using .loc[row_indexer,col_indexer] = value instead\n",
      "\n",
      "See the caveats in the documentation: http://pandas.pydata.org/pandas-docs/stable/indexing.html#indexing-view-versus-copy\n",
      "  This is separate from the ipykernel package so we can avoid doing imports until\n",
      "/root/anaconda3/lib/python3.6/site-packages/ipykernel_launcher.py:4: SettingWithCopyWarning: \n",
      "A value is trying to be set on a copy of a slice from a DataFrame.\n",
      "Try using .loc[row_indexer,col_indexer] = value instead\n",
      "\n",
      "See the caveats in the documentation: http://pandas.pydata.org/pandas-docs/stable/indexing.html#indexing-view-versus-copy\n",
      "  after removing the cwd from sys.path.\n",
      "/root/anaconda3/lib/python3.6/site-packages/ipykernel_launcher.py:5: SettingWithCopyWarning: \n",
      "A value is trying to be set on a copy of a slice from a DataFrame.\n",
      "Try using .loc[row_indexer,col_indexer] = value instead\n",
      "\n",
      "See the caveats in the documentation: http://pandas.pydata.org/pandas-docs/stable/indexing.html#indexing-view-versus-copy\n",
      "  \"\"\"\n",
      "/root/anaconda3/lib/python3.6/site-packages/ipykernel_launcher.py:6: SettingWithCopyWarning: \n",
      "A value is trying to be set on a copy of a slice from a DataFrame.\n",
      "Try using .loc[row_indexer,col_indexer] = value instead\n",
      "\n",
      "See the caveats in the documentation: http://pandas.pydata.org/pandas-docs/stable/indexing.html#indexing-view-versus-copy\n",
      "  \n"
     ]
    }
   ],
   "source": [
    "df2['Clarity'] = df2['Clarity'].apply(lambda x: clarityDict[x])\n",
    "df2['Cut'] = df2['Cut'].apply(lambda x: cutDict[x])\n",
    "df2['Color'] = df2['Color'].apply(lambda x: colorDict[x])\n",
    "df2['Fluorescence'] = df2['Fluorescence'].apply(lambda x: fDict[x])\n",
    "df2['Polish'] = df2['Polish'].apply(lambda x: polishDict[x])\n",
    "df2['Symmetry'] = df2['Symmetry'].apply(lambda x: symDict[x])"
   ]
  },
  {
   "cell_type": "code",
   "execution_count": 364,
   "metadata": {},
   "outputs": [],
   "source": [
    "enc = preprocessing.OneHotEncoder()\n",
    "cat_vars = ['Shape','Origin']\n",
    "ohe_columns = enc.fit_transform(df2[cat_vars])"
   ]
  },
  {
   "cell_type": "code",
   "execution_count": 368,
   "metadata": {},
   "outputs": [
    {
     "data": {
      "text/html": [
       "<div>\n",
       "<style scoped>\n",
       "    .dataframe tbody tr th:only-of-type {\n",
       "        vertical-align: middle;\n",
       "    }\n",
       "\n",
       "    .dataframe tbody tr th {\n",
       "        vertical-align: top;\n",
       "    }\n",
       "\n",
       "    .dataframe thead th {\n",
       "        text-align: right;\n",
       "    }\n",
       "</style>\n",
       "<table border=\"1\" class=\"dataframe\">\n",
       "  <thead>\n",
       "    <tr style=\"text-align: right;\">\n",
       "      <th></th>\n",
       "      <th>Carat Weight</th>\n",
       "      <th>Clarity</th>\n",
       "      <th>Color</th>\n",
       "      <th>Cut</th>\n",
       "      <th>Depth</th>\n",
       "      <th>Fluorescence</th>\n",
       "      <th>Gemstone</th>\n",
       "      <th>Girdle</th>\n",
       "      <th>Measurements</th>\n",
       "      <th>Origin</th>\n",
       "      <th>Polish</th>\n",
       "      <th>Price</th>\n",
       "      <th>Shape</th>\n",
       "      <th>Stock Number</th>\n",
       "      <th>Symmetry</th>\n",
       "      <th>Table</th>\n",
       "    </tr>\n",
       "  </thead>\n",
       "  <tbody>\n",
       "    <tr>\n",
       "      <th>1</th>\n",
       "      <td>1.07</td>\n",
       "      <td>4</td>\n",
       "      <td>2</td>\n",
       "      <td>3</td>\n",
       "      <td>0.68</td>\n",
       "      <td>5</td>\n",
       "      <td>Natural, untreated diamond</td>\n",
       "      <td>Medium - Extremely Thick</td>\n",
       "      <td>6.22mm x 5.58mm x 3.81mm</td>\n",
       "      <td>Russia</td>\n",
       "      <td>4</td>\n",
       "      <td>3,400.00</td>\n",
       "      <td>Cushion</td>\n",
       "      <td>2523116AB</td>\n",
       "      <td>4</td>\n",
       "      <td>0.62</td>\n",
       "    </tr>\n",
       "    <tr>\n",
       "      <th>2</th>\n",
       "      <td>1.71</td>\n",
       "      <td>5</td>\n",
       "      <td>7</td>\n",
       "      <td>3</td>\n",
       "      <td>0.71</td>\n",
       "      <td>3</td>\n",
       "      <td>Natural, untreated diamond</td>\n",
       "      <td>Medium - Extremely Thick</td>\n",
       "      <td>7.23mm x 6.26mm x 4.47mm</td>\n",
       "      <td>Botswana Sort</td>\n",
       "      <td>4</td>\n",
       "      <td>15,290.00</td>\n",
       "      <td>Cushion</td>\n",
       "      <td>2905892AY</td>\n",
       "      <td>4</td>\n",
       "      <td>0.64</td>\n",
       "    </tr>\n",
       "    <tr>\n",
       "      <th>3</th>\n",
       "      <td>1.02</td>\n",
       "      <td>3</td>\n",
       "      <td>6</td>\n",
       "      <td>3</td>\n",
       "      <td>0.73</td>\n",
       "      <td>3</td>\n",
       "      <td>Natural, untreated diamond</td>\n",
       "      <td>Thick - Extremely Thick</td>\n",
       "      <td>5.60mm x 5.44mm x 3.98mm</td>\n",
       "      <td>Botswana Sort</td>\n",
       "      <td>3</td>\n",
       "      <td>4,820.00</td>\n",
       "      <td>Cushion</td>\n",
       "      <td>2988421AY</td>\n",
       "      <td>3</td>\n",
       "      <td>0.62</td>\n",
       "    </tr>\n",
       "    <tr>\n",
       "      <th>5</th>\n",
       "      <td>1.06</td>\n",
       "      <td>3</td>\n",
       "      <td>3</td>\n",
       "      <td>3</td>\n",
       "      <td>0.72</td>\n",
       "      <td>5</td>\n",
       "      <td>Natural, untreated diamond</td>\n",
       "      <td>Very Thin - Thick</td>\n",
       "      <td>5.87mm x 5.59mm x 4.02mm</td>\n",
       "      <td>Botswana Sort</td>\n",
       "      <td>3</td>\n",
       "      <td>4,350.00</td>\n",
       "      <td>Cushion</td>\n",
       "      <td>2905929AY</td>\n",
       "      <td>3</td>\n",
       "      <td>0.63</td>\n",
       "    </tr>\n",
       "    <tr>\n",
       "      <th>6</th>\n",
       "      <td>1.01</td>\n",
       "      <td>1</td>\n",
       "      <td>7</td>\n",
       "      <td>3</td>\n",
       "      <td>0.71</td>\n",
       "      <td>5</td>\n",
       "      <td>Natural, untreated diamond</td>\n",
       "      <td>Slightly Thick - Thick</td>\n",
       "      <td>5.99mm x 5.33mm x 3.77mm</td>\n",
       "      <td>Botswana Sort</td>\n",
       "      <td>4</td>\n",
       "      <td>3,830.00</td>\n",
       "      <td>Cushion</td>\n",
       "      <td>2905904AY</td>\n",
       "      <td>4</td>\n",
       "      <td>0.63</td>\n",
       "    </tr>\n",
       "  </tbody>\n",
       "</table>\n",
       "</div>"
      ],
      "text/plain": [
       "   Carat Weight  Clarity  Color  Cut  Depth  Fluorescence  \\\n",
       "1          1.07        4      2    3   0.68             5   \n",
       "2          1.71        5      7    3   0.71             3   \n",
       "3          1.02        3      6    3   0.73             3   \n",
       "5          1.06        3      3    3   0.72             5   \n",
       "6          1.01        1      7    3   0.71             5   \n",
       "\n",
       "                     Gemstone                    Girdle  \\\n",
       "1  Natural, untreated diamond  Medium - Extremely Thick   \n",
       "2  Natural, untreated diamond  Medium - Extremely Thick   \n",
       "3  Natural, untreated diamond   Thick - Extremely Thick   \n",
       "5  Natural, untreated diamond         Very Thin - Thick   \n",
       "6  Natural, untreated diamond    Slightly Thick - Thick   \n",
       "\n",
       "               Measurements         Origin  Polish     Price    Shape  \\\n",
       "1  6.22mm x 5.58mm x 3.81mm         Russia       4  3,400.00  Cushion   \n",
       "2  7.23mm x 6.26mm x 4.47mm  Botswana Sort       4 15,290.00  Cushion   \n",
       "3  5.60mm x 5.44mm x 3.98mm  Botswana Sort       3  4,820.00  Cushion   \n",
       "5  5.87mm x 5.59mm x 4.02mm  Botswana Sort       3  4,350.00  Cushion   \n",
       "6  5.99mm x 5.33mm x 3.77mm  Botswana Sort       4  3,830.00  Cushion   \n",
       "\n",
       "  Stock Number  Symmetry  Table  \n",
       "1    2523116AB         4   0.62  \n",
       "2    2905892AY         4   0.64  \n",
       "3    2988421AY         3   0.62  \n",
       "5    2905929AY         3   0.63  \n",
       "6    2905904AY         4   0.63  "
      ]
     },
     "execution_count": 368,
     "metadata": {},
     "output_type": "execute_result"
    }
   ],
   "source": [
    "df2.head()"
   ]
  },
  {
   "cell_type": "code",
   "execution_count": 387,
   "metadata": {},
   "outputs": [],
   "source": [
    "numeric_vars = ['Carat Weight','Clarity','Color','Cut','Depth','Fluorescence','Polish','Symmetry','Table']\n",
    "numeric_columns = np.matrix(df2[numeric_vars])"
   ]
  },
  {
   "cell_type": "code",
   "execution_count": 385,
   "metadata": {},
   "outputs": [],
   "source": [
    "from scipy.sparse import hstack\n",
    "processed_data = hstack((numeric_columns, ohe_columns))"
   ]
  },
  {
   "cell_type": "code",
   "execution_count": 386,
   "metadata": {},
   "outputs": [
    {
     "data": {
      "text/plain": [
       "(27797, 23)"
      ]
     },
     "execution_count": 386,
     "metadata": {},
     "output_type": "execute_result"
    }
   ],
   "source": [
    "processed_data.shape"
   ]
  },
  {
   "cell_type": "markdown",
   "metadata": {},
   "source": [
    "# Regression"
   ]
  },
  {
   "cell_type": "code",
   "execution_count": 388,
   "metadata": {},
   "outputs": [],
   "source": [
    "from sklearn.linear_model import LinearRegression"
   ]
  },
  {
   "cell_type": "code",
   "execution_count": 390,
   "metadata": {},
   "outputs": [],
   "source": [
    "y = np.array(df2['Price'])"
   ]
  },
  {
   "cell_type": "code",
   "execution_count": 391,
   "metadata": {},
   "outputs": [],
   "source": [
    "from sklearn.model_selection import train_test_split\n",
    "X_train, X_test, y_train, y_test = train_test_split(processed_data, y, test_size = 0.33, random_state = 42 )"
   ]
  },
  {
   "cell_type": "code",
   "execution_count": 400,
   "metadata": {},
   "outputs": [
    {
     "data": {
      "text/plain": [
       "LinearRegression(copy_X=True, fit_intercept=True, n_jobs=None,\n",
       "         normalize=False)"
      ]
     },
     "execution_count": 400,
     "metadata": {},
     "output_type": "execute_result"
    }
   ],
   "source": [
    "clf = LinearRegression()\n",
    "clf.fit(X_train, y_train)"
   ]
  },
  {
   "cell_type": "code",
   "execution_count": 424,
   "metadata": {},
   "outputs": [
    {
     "data": {
      "text/plain": [
       "<matplotlib.collections.PathCollection at 0x7f547a687cc0>"
      ]
     },
     "execution_count": 424,
     "metadata": {},
     "output_type": "execute_result"
    },
    {
     "data": {
      "image/png": "[encoded data removed]",
      "text/plain": [
       "<Figure size 432x288 with 1 Axes>"
      ]
     },
     "metadata": {},
     "output_type": "display_data"
    }
   ],
   "source": [
    "plt.scatter(y_test, clf.predict(X_test))"
   ]
  }
 ],
 "metadata": {
  "kernelspec": {
   "display_name": "Python 3",
   "language": "python",
   "name": "python3"
  },
  "language_info": {
   "codemirror_mode": {
    "name": "ipython",
    "version": 3
   },
   "file_extension": ".py",
   "mimetype": "text/x-python",
   "name": "python",
   "nbconvert_exporter": "python",
   "pygments_lexer": "ipython3",
   "version": "3.6.5"
  }
 },
 "nbformat": 4,
 "nbformat_minor": 2
}
